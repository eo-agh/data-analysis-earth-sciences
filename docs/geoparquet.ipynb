{
 "cells": [
  {
   "cell_type": "code",
   "execution_count": null,
   "metadata": {},
   "outputs": [],
   "source": [
    "import geopandas as gpd\n",
    "import folium\n",
    "from shapely.geometry import box\n",
    "from fsspec.implementations.http import HTTPFileSystem\n",
    "import pyarrow.parquet as pq\n",
    "from geopandas.io.arrow import _arrow_to_geopandas\n",
    "from shapely.geometry import box\n",
    "from folium.plugins import HeatMap"
   ]
  },
  {
   "cell_type": "markdown",
   "metadata": {},
   "source": [
    "GeoParquet to format zoptymalizowany do przechowywania i przetwarzania danych geoprzestrzennych.\n",
    "\n",
    "- Umożliwia szybkie odczytywanie i zapisywanie dużych zbiorów danych dzięki kolumnowej strukturze.\n",
    "- Obsługuje równoległe przetwarzanie, co czyni go idealnym do analizy dużych zbiorów danych.\n",
    "- Umożliwia efektywne filtrowanie i kompresję, zmniejszając ilość przesyłanych i zapisywanych danych.\n",
    "- W przeciwieństwie do formatów takich jak Shapefile czy GeoJSON, pozwala na przechowywanie atrybutów o różnych typach danych bez ograniczeń."
   ]
  },
  {
   "cell_type": "code",
   "execution_count": null,
   "metadata": {},
   "outputs": [],
   "source": [
    "file_url = \"https://data.source.coop/cholmes/eurocrops/unprojected/geoparquet/FR_2018_EC21.parquet\"\n",
    "filesystem = HTTPFileSystem()"
   ]
  },
  {
   "cell_type": "markdown",
   "metadata": {},
   "source": [
    "**Wczytanie pliku GeoParquet do GeoDataFrame i podgląd danych**\n",
    "\n",
    "GeoPandas to rozszerzenie dla Pandas, które umożliwia pracę z danymi przestrzennymi w Pythonie. Ułatwia analizę geometrii (punkty, linie, poligony), przekształcanie układów współrzędnych, operacje przestrzenne (przecięcia, łączenia, buforowanie) oraz wizualizację na mapach.\n",
    "\n",
    "GeoPandas wykorzystuje Shapely do obsługi geometrii, Fiona do wczytywania danych wektorowych, a Matplotlib do prostych wizualizacji."
   ]
  },
  {
   "cell_type": "markdown",
   "metadata": {},
   "source": [
    "To tylko wczytuje metadane"
   ]
  },
  {
   "cell_type": "code",
   "execution_count": null,
   "metadata": {},
   "outputs": [],
   "source": [
    "parquet_file = pq.ParquetFile(file_url, filesystem=filesystem)\n",
    "print(f\"Columns: {parquet_file.schema_arrow.names}\")\n",
    "print(f\"Number of rows: {parquet_file.metadata.num_rows}\")\n",
    "print(f\"Number of row groups: {parquet_file.num_row_groups}\")"
   ]
  },
  {
   "cell_type": "markdown",
   "metadata": {},
   "source": [
    "Tutaj wczytujemy faktycznie dane, ale tylko dla jednej z grup wierszy"
   ]
  },
  {
   "cell_type": "code",
   "execution_count": null,
   "metadata": {},
   "outputs": [],
   "source": [
    "pyarrow_table = parquet_file.read_row_group(0, columns=[\"ID_PARCEL\", \"SURF_PARC\", \"geometry\"])\n",
    "geopandas_gdf = _arrow_to_geopandas(pyarrow_table)"
   ]
  },
  {
   "cell_type": "code",
   "execution_count": null,
   "metadata": {},
   "outputs": [],
   "source": [
    "geopandas_gdf.head(10)"
   ]
  },
  {
   "cell_type": "code",
   "execution_count": null,
   "metadata": {},
   "outputs": [],
   "source": [
    "# Przekształcenie do EPSG:4326 jeśli dane są w innym układzie\n",
    "if geopandas_gdf.crs.to_epsg() != 4326:\n",
    "    geopandas_gdf = geopandas_gdf.to_crs(epsg=4326)"
   ]
  },
  {
   "cell_type": "markdown",
   "metadata": {},
   "source": [
    "### Naprawianie geometrii"
   ]
  },
  {
   "cell_type": "code",
   "execution_count": null,
   "metadata": {},
   "outputs": [],
   "source": [
    "# Usunięcie pustych i nieprawidłowych geometrii\n",
    "geopandas_gdf = geopandas_gdf[~geopandas_gdf.geometry.is_empty & geopandas_gdf.geometry.notnull()]\n",
    "\n",
    "# Naprawa geometrii, aby uniknąć błędów topologicznych\n",
    "geopandas_gdf['geometry'] = geopandas_gdf['geometry'].buffer(0)"
   ]
  },
  {
   "cell_type": "markdown",
   "metadata": {},
   "source": [
    "### Filtrowanie"
   ]
  },
  {
   "cell_type": "code",
   "execution_count": null,
   "metadata": {},
   "outputs": [],
   "source": [
    "# Definicja granic Francji w EPSG:4326\n",
    "france_bbox = box(-5.0, 41.0, 9.7, 51.1)\n",
    "\n",
    "# Usunięcie geometrii znajdujących się poza granicami Francji\n",
    "geopandas_gdf = geopandas_gdf[geopandas_gdf.geometry.within(france_bbox)]"
   ]
  },
  {
   "cell_type": "code",
   "execution_count": null,
   "metadata": {},
   "outputs": [],
   "source": [
    "# Konwersja kolumny SURF_PARC do float, jeśli zawiera decimal.Decimal\n",
    "geopandas_gdf['SURF_PARC'] = geopandas_gdf['SURF_PARC'].astype(float)\n",
    "\n",
    "# Obliczenie progu dla 10% największych wartości powierzchni\n",
    "threshold = geopandas_gdf['SURF_PARC'].quantile(0.9)"
   ]
  },
  {
   "cell_type": "code",
   "execution_count": null,
   "metadata": {},
   "outputs": [],
   "source": [
    "# Filtrowanie 10% największych parceli\n",
    "gdf_top_10 = geopandas_gdf[geopandas_gdf['SURF_PARC'] >= threshold]"
   ]
  },
  {
   "cell_type": "markdown",
   "metadata": {},
   "source": [
    "### Mapa interaktywna"
   ]
  },
  {
   "cell_type": "code",
   "execution_count": null,
   "metadata": {},
   "outputs": [],
   "source": [
    "# Tworzenie mapy interaktywnej\n",
    "m = folium.Map(location=[gdf_top_10.geometry.centroid.y.mean(), gdf_top_10.geometry.centroid.x.mean()], zoom_start=10)\n",
    "\n",
    "# Dodanie warstwy polygonów\n",
    "def add_gdf_to_map(gdf, fmap):\n",
    "    for _, row in gdf.iterrows():\n",
    "        folium.GeoJson(row.geometry).add_to(fmap)\n",
    "\n",
    "add_gdf_to_map(gdf_top_10, m)\n",
    "\n",
    "# Wyświetlenie mapy\n",
    "m"
   ]
  },
  {
   "cell_type": "markdown",
   "metadata": {},
   "source": [
    "### Heatmap"
   ]
  },
  {
   "cell_type": "code",
   "execution_count": null,
   "metadata": {},
   "outputs": [],
   "source": [
    "# Tworzenie mapy heatmap\n",
    "heatmap_data = [[point.y, point.x] for point in geopandas_gdf.geometry.centroid]\n",
    "\n",
    "m_heatmap = folium.Map(location=[gdf_top_10.geometry.centroid.y.mean(), gdf_top_10.geometry.centroid.x.mean()], zoom_start=10)\n",
    "HeatMap(heatmap_data).add_to(m_heatmap)\n",
    "\n",
    "# Wyświetlenie mapy heatmap\n",
    "m_heatmap"
   ]
  }
 ],
 "metadata": {
  "kernelspec": {
   "display_name": "daes-env",
   "language": "python",
   "name": "python3"
  },
  "language_info": {
   "codemirror_mode": {
    "name": "ipython",
    "version": 3
   },
   "file_extension": ".py",
   "mimetype": "text/x-python",
   "name": "python",
   "nbconvert_exporter": "python",
   "pygments_lexer": "ipython3",
   "version": "3.11.11"
  }
 },
 "nbformat": 4,
 "nbformat_minor": 2
}
