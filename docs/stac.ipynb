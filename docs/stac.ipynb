{
 "cells": [
  {
   "cell_type": "markdown",
   "metadata": {},
   "source": [
    "## STAC\n",
    "\n",
    "SpatioTemporal Asset Catalog (STAC) to otwarty standard służący do organizowania i przeszukiwania danych geoprzestrzennych, takich jak zobrazowania satelitarne, modele terenu czy dane LiDAR. STAC został zaprojektowany z myślą o efektywnym katalogowaniu zasobów przestrzennych, co pozwala na ich łatwe odkrywanie, filtrowanie i analizę. Dzięki STAC użytkownicy mogą szybko przeszukiwać ogromne zbiory danych, stosując kryteria takie jak lokalizacja, przedział czasowy, rozdzielczość czy dostępność pasm spektralnych. \n",
    "\n",
    "Najważniejsze zalety STAC:\n",
    "- **Standaryzacja** – jednolity format umożliwia interoperacyjność między różnymi dostawcami danych.\n",
    "- **Elastyczność** – możliwość rozszerzania schematów metadanych i dostosowywania ich do specyficznych potrzeb.\n",
    "- **Łatwość przeszukiwania** – szybkie zapytania pozwalają na odnalezienie interesujących zobrazowań na podstawie obszaru i daty.\n",
    "- **Integracja z chmurą** – wiele publicznych katalogów STAC dostępnych jest w chmurze, co ułatwia pracę z dużymi zbiorami danych.\n",
    "\n",
    "Dzięki STAC eksploracja i analiza danych geoprzestrzennych staje się znacznie bardziej efektywna, co ma kluczowe znaczenie dla naukowców, analityków oraz firm zajmujących się obserwacją Ziemi.\n"
   ]
  },
  {
   "cell_type": "markdown",
   "metadata": {},
   "source": [
    "### Przeszukanie kolekcji dostępnych w STAC w Planetary Computer"
   ]
  },
  {
   "cell_type": "code",
   "execution_count": null,
   "metadata": {},
   "outputs": [],
   "source": [
    "import pystac_client\n",
    "import planetary_computer as pc\n",
    "import rasterio\n",
    "import numpy as np\n",
    "import folium\n",
    "from folium.raster_layers import ImageOverlay\n",
    "import matplotlib.pyplot as plt\n",
    "from PIL import Image\n",
    "from rasterio.mask import mask\n",
    "from rasterio.warp import transform_geom\n",
    "import matplotlib.pyplot as plt\n",
    "import matplotlib.colors as mcolors\n",
    "import io\n",
    "import base64"
   ]
  },
  {
   "cell_type": "code",
   "execution_count": null,
   "metadata": {},
   "outputs": [],
   "source": [
    "# Połączenie z publicznym katalogiem STAC na Azure Planetary Computer\n",
    "stac_url = \"https://planetarycomputer.microsoft.com/api/stac/v1\"\n",
    "stac_client = pystac_client.Client.open(stac_url)\n",
    "\n",
    "# Lista dostępnych kolekcji\n",
    "collections = stac_client.get_all_collections()\n",
    "print(\"Dostępne kolekcje:\")\n",
    "for collection in collections:\n",
    "    print(collection.id, \"-\", collection.title)"
   ]
  },
  {
   "cell_type": "markdown",
   "metadata": {},
   "source": [
    "### Przeszukiwanie w czasie i przestrzeni"
   ]
  },
  {
   "cell_type": "code",
   "execution_count": null,
   "metadata": {},
   "outputs": [],
   "source": [
    "# Definiowanie obszaru zainteresowania i przedziału czasowego\n",
    "aoi = {\n",
    "    \"type\": \"Polygon\",\n",
    "    \"coordinates\": [[\n",
    "        [19.86, 50.02], [20.03, 50.02], [20.03, 50.12], [19.86, 50.12], [19.86, 50.02]\n",
    "    ]]\n",
    "}\n",
    "time_range = \"2023-06-01/2023-06-30\"\n",
    "\n",
    "# Wyszukiwanie danych Sentinel-2 spełniających kryteria\n",
    "search = stac_client.search(\n",
    "    collections=[\"sentinel-2-l2a\"],\n",
    "    intersects=aoi,\n",
    "    datetime=time_range,\n",
    "    max_items=5\n",
    ")\n",
    "\n",
    "items = list(search.items())\n",
    "print(f\"Znaleziono {len(items)} scen Sentinel-2\")\n",
    "print(f\"Nazwy scen: {items}\")\n"
   ]
  },
  {
   "cell_type": "markdown",
   "metadata": {},
   "source": [
    "### Przeprowadzanie obliczeń"
   ]
  },
  {
   "cell_type": "code",
   "execution_count": null,
   "metadata": {},
   "outputs": [],
   "source": [
    "item = items[0]\n",
    "# Pobranie pasm B04 (czerwone) i B08 (NIR)\n",
    "b04_asset = pc.sign(item.assets[\"B04\"].href)\n",
    "b08_asset = pc.sign(item.assets[\"B08\"].href)"
   ]
  },
  {
   "cell_type": "code",
   "execution_count": null,
   "metadata": {},
   "outputs": [],
   "source": [
    "# Przycięcie zobrazowania do AOI\n",
    "def clip_raster(dataset, aoi):\n",
    "    from shapely.geometry import shape\n",
    "    import json\n",
    "    \n",
    "    # Konwersja AOI do układu współrzędnych rastra\n",
    "    aoi_transformed = transform_geom('EPSG:4326', dataset.crs, shape(aoi))\n",
    "    \n",
    "    aoi_geom = [json.loads(json.dumps(aoi_transformed))]\n",
    "    clipped_array, clipped_transform = mask(dataset, [shape(aoi_transformed)], crop=True)\n",
    "    return clipped_array[0], clipped_transform\n",
    "    from shapely.geometry import shape\n",
    "    import json\n",
    "    aoi_geom = [json.loads(json.dumps(aoi))]\n",
    "    clipped_array, clipped_transform = mask(dataset, [shape(aoi)], crop=True)\n",
    "    return clipped_array[0], clipped_transform\n",
    "\n",
    "# Otwieranie i przycinanie pasm\n",
    "with rasterio.open(b04_asset) as red_ds, rasterio.open(b08_asset) as nir_ds:\n",
    "    red, red_transform = clip_raster(red_ds, aoi)\n",
    "    nir, nir_transform = clip_raster(nir_ds, aoi)\n",
    "    red = red.astype(np.float32)\n",
    "    nir = nir.astype(np.float32)\n",
    "    ndvi = (nir - red) / (nir + red + 1e-10)\n",
    "    from rasterio.warp import transform_bounds\n",
    "\n",
    "# Pobranie układu współrzędnych pliku\n",
    "dataset_crs = red_ds.crs\n",
    "\n",
    "# Przekształcenie granic obrazu do WGS84\n",
    "height, width = red.shape\n",
    "# Obliczenie granic po przycięciu\n",
    "left, top = red_transform * (0, 0)  # Lewy górny róg\n",
    "right, bottom = red_transform * (width, height)  # Prawy dolny róg\n",
    "bounds = transform_bounds(dataset_crs, 'EPSG:4326', left, bottom, right, top)"
   ]
  },
  {
   "cell_type": "code",
   "execution_count": null,
   "metadata": {},
   "outputs": [],
   "source": [
    "# Normalizacja do zakresu 0-255\n",
    "# Tworzenie mapy kolorów do wizualizacji NDVI\n",
    "cmap = plt.get_cmap('RdYlGn')  # Czerwony-żółty-zielony\n",
    "norm = mcolors.Normalize(vmin=-1, vmax=1)\n",
    "ndvi_colored = cmap(norm(ndvi))[:, :, :3]  # Usunięcie kanału alfa\n",
    "ndvi_colored = (ndvi_colored * 255).astype(np.uint8)\n",
    "\n",
    "# Tworzenie obrazu NDVI\n",
    "image = Image.fromarray(ndvi_colored, mode=\"RGB\")\n",
    "image = image.convert(\"RGBA\")\n",
    "\n",
    "# Konwersja obrazu na format base64\n",
    "image_buffer = io.BytesIO()\n",
    "image.save(image_buffer, format='PNG')\n",
    "image_data = base64.b64encode(image_buffer.getvalue()).decode('utf-8')\n",
    "import tempfile\n",
    "\n",
    "# Zapisanie obrazu NDVI do pliku tymczasowego\n",
    "temp_file = tempfile.NamedTemporaryFile(suffix='.png', delete=False)\n",
    "image.save(temp_file.name, format='PNG')\n",
    "image_url = temp_file.name"
   ]
  },
  {
   "cell_type": "markdown",
   "metadata": {},
   "source": [
    "### Wyświetlanie wyników"
   ]
  },
  {
   "cell_type": "code",
   "execution_count": null,
   "metadata": {},
   "outputs": [],
   "source": [
    "# Tworzenie mapy i dodanie NDVI jako warstwy rastrowej\n",
    "minx, miny, maxx, maxy = bounds\n",
    "m = folium.Map(location=[(miny + maxy) / 2, (minx + maxx) / 2], zoom_start=10)\n",
    "image_overlay = ImageOverlay(\n",
    "    image=image_url,\n",
    "    bounds=[[miny, minx], [maxy, maxx]],\n",
    "    opacity=0.6,\n",
    "    name=\"NDVI Layer\"\n",
    ")\n",
    "image_overlay.add_to(m)\n",
    "\n",
    "# Dodanie opcji sterowania warstwami\n",
    "folium.LayerControl().add_to(m)\n",
    "\n",
    "# Wyświetlenie mapy\n",
    "m\n"
   ]
  }
 ],
 "metadata": {
  "kernelspec": {
   "display_name": "daes-env",
   "language": "python",
   "name": "python3"
  },
  "language_info": {
   "codemirror_mode": {
    "name": "ipython",
    "version": 3
   },
   "file_extension": ".py",
   "mimetype": "text/x-python",
   "name": "python",
   "nbconvert_exporter": "python",
   "pygments_lexer": "ipython3",
   "version": "3.11.11"
  }
 },
 "nbformat": 4,
 "nbformat_minor": 2
}
